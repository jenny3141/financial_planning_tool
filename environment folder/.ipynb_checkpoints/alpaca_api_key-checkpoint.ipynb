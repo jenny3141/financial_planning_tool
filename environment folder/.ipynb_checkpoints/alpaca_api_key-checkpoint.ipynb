{
 "cells": [
  {
   "cell_type": "code",
   "execution_count": 7,
   "id": "377a4fb5",
   "metadata": {},
   "outputs": [],
   "source": [
    "# Import the required libraries and dependencies\n",
    "\n",
    "# Import the os library\n",
    "import os\n",
    "\n",
    "# Import the load_dotenv module from the dotenv library\n",
    "from dotenv import load_dotenv"
   ]
  },
  {
   "cell_type": "code",
   "execution_count": 8,
   "id": "2fea5e43",
   "metadata": {},
   "outputs": [
    {
     "data": {
      "text/plain": [
       "True"
      ]
     },
     "execution_count": 8,
     "metadata": {},
     "output_type": "execute_result"
    }
   ],
   "source": [
    "# Load .env environment variables into the notebook\n",
    "load_dotenv()"
   ]
  },
  {
   "cell_type": "code",
   "execution_count": 9,
   "id": "593f1232",
   "metadata": {},
   "outputs": [],
   "source": [
    "alpaca_api_key = alpaca_api_key = os.getenv(\"PKSJSB9PTZHBMJFWHNH3\")"
   ]
  },
  {
   "cell_type": "code",
   "execution_count": 10,
   "id": "7b90843b",
   "metadata": {},
   "outputs": [],
   "source": [
    "alpaca_secret_key = os.getenv('gKyvwkWmS4MEZ5anVtS4cfiFM9ir0rFc52Epywnb')"
   ]
  },
  {
   "cell_type": "code",
   "execution_count": 11,
   "id": "e94a8fe5",
   "metadata": {},
   "outputs": [
    {
     "data": {
      "text/plain": [
       "NoneType"
      ]
     },
     "execution_count": 11,
     "metadata": {},
     "output_type": "execute_result"
    }
   ],
   "source": [
    "type(alpaca_api_key)"
   ]
  },
  {
   "cell_type": "code",
   "execution_count": 12,
   "id": "b6fbc7bc",
   "metadata": {},
   "outputs": [
    {
     "data": {
      "text/plain": [
       "NoneType"
      ]
     },
     "execution_count": 12,
     "metadata": {},
     "output_type": "execute_result"
    }
   ],
   "source": [
    "type(alpaca_secret_key)"
   ]
  },
  {
   "cell_type": "code",
   "execution_count": null,
   "id": "399c4d4c",
   "metadata": {},
   "outputs": [],
   "source": []
  }
 ],
 "metadata": {
  "kernelspec": {
   "display_name": "Python (dev)",
   "language": "python",
   "name": "dev"
  },
  "language_info": {
   "codemirror_mode": {
    "name": "ipython",
    "version": 3
   },
   "file_extension": ".py",
   "mimetype": "text/x-python",
   "name": "python",
   "nbconvert_exporter": "python",
   "pygments_lexer": "ipython3",
   "version": "3.7.11"
  }
 },
 "nbformat": 4,
 "nbformat_minor": 5
}
